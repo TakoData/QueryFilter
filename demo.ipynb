{
 "cells": [
  {
   "cell_type": "code",
   "execution_count": null,
   "metadata": {},
   "outputs": [],
   "source": [
    "# Make sure you are logged in to Hugging Face\n",
    "!huggingface-cli login --token \"hf_my-hf-token\""
   ]
  },
  {
   "cell_type": "code",
   "execution_count": null,
   "metadata": {},
   "outputs": [],
   "source": [
    "# If poetry is not installed\n",
    "#!pip install poetry\n",
    "!poetry install"
   ]
  },
  {
   "cell_type": "code",
   "execution_count": null,
   "metadata": {},
   "outputs": [],
   "source": [
    "from tako_query_filter.filter import TakoQueryFilter\n",
    "\n",
    "query_filter = TakoQueryFilter.load_from_hf(force_download=True)"
   ]
  },
  {
   "cell_type": "code",
   "execution_count": 11,
   "metadata": {},
   "outputs": [
    {
     "data": {
      "text/plain": [
       "array([1, 1, 1, 1, 1, 1, 0, 1, 0])"
      ]
     },
     "execution_count": 11,
     "metadata": {},
     "output_type": "execute_result"
    }
   ],
   "source": [
    "queries = [\n",
    "    \"aapl vs nvda\",\n",
    "    \"aapl vs nvidia\",\n",
    "    \"aapl\",\n",
    "    \"nvda\",\n",
    "    \"nvidia\",\n",
    "    \"trump vs. harris\",\n",
    "    \"algae\",\n",
    "    \"san francisco game this week\",\n",
    "    \"what college did michael phelps go to\"\n",
    "]\n",
    "\n",
    "query_filter.predict(queries)"
   ]
  },
  {
   "cell_type": "code",
   "execution_count": null,
   "metadata": {},
   "outputs": [],
   "source": []
  }
 ],
 "metadata": {
  "kernelspec": {
   "display_name": ".filter",
   "language": "python",
   "name": "python3"
  },
  "language_info": {
   "codemirror_mode": {
    "name": "ipython",
    "version": 3
   },
   "file_extension": ".py",
   "mimetype": "text/x-python",
   "name": "python",
   "nbconvert_exporter": "python",
   "pygments_lexer": "ipython3",
   "version": "3.10.14"
  }
 },
 "nbformat": 4,
 "nbformat_minor": 2
}
