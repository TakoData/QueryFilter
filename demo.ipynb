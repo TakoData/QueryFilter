{
 "cells": [
  {
   "cell_type": "code",
   "execution_count": null,
   "metadata": {},
   "outputs": [],
   "source": [
    "# Make sure you are logged in to Hugging Face\n",
    "!huggingface-cli login --token \"hf_my-hf-token\""
   ]
  },
  {
   "cell_type": "code",
   "execution_count": null,
   "metadata": {},
   "outputs": [],
   "source": [
    "# If poetry is not installed\n",
    "#!pip install poetry\n",
    "!poetry install"
   ]
  },
  {
   "cell_type": "code",
   "execution_count": 2,
   "metadata": {},
   "outputs": [
    {
     "name": "stderr",
     "output_type": "stream",
     "text": [
      "/Users/noahjax/Work/QueryFilter/.venv/lib/python3.10/site-packages/spacy/util.py:910: UserWarning: [W095] Model 'en_pipeline' (0.0.0) was trained with spaCy v3.8.2 and may not be 100% compatible with the current version (3.7.5). If you see errors or degraded performance, download a newer compatible model or retrain your custom model with the current spaCy version. For more details and available updates, run: python -m spacy validate\n",
      "  warnings.warn(warn_msg)\n"
     ]
    }
   ],
   "source": [
    "from tako_query_filter.filter import TakoQueryFilter\n",
    "\n",
    "query_filter = TakoQueryFilter.load_from_hf(force_download=True)\n",
    "# Alternatively, you can load from local paths\n",
    "# query_filter = TakoQueryFilter.load_from_local(\n",
    "#     topic_model_path=\"local-scikit-model-path/topic_model.pkl\",\n",
    "#     spacy_model_path=\"local-spacy-model-path\",\n",
    "#     keywords_path=\"local-scikit-model-path/topic_model.pkl\"\n",
    "# )\n"
   ]
  },
  {
   "cell_type": "code",
   "execution_count": 3,
   "metadata": {},
   "outputs": [
    {
     "name": "stdout",
     "output_type": "stream",
     "text": [
      "aapl vs nvda -> 1\n",
      "aapl vs nvidia -> 1\n",
      "aapl -> 1\n",
      "nvda -> 1\n",
      "nvidia -> 1\n",
      "trump vs. harris -> 1\n",
      "algae -> 0\n",
      "san francisco game this week -> 1\n",
      "what college did michael phelps go toelection 2024 -> 1\n",
      "election results -> 1\n",
      "presidential election polls 2024 -> 1\n"
     ]
    }
   ],
   "source": [
    "queries = [\n",
    "    \"aapl vs nvda\",\n",
    "    \"aapl vs nvidia\",\n",
    "    \"aapl\",\n",
    "    \"nvda\",\n",
    "    \"nvidia\",\n",
    "    \"trump vs. harris\",\n",
    "    \"algae\",\n",
    "    \"san francisco game this week\",\n",
    "    \"what college did michael phelps go to\"\n",
    "    \"election 2024\",\n",
    "    \"election results\",\n",
    "    \"presidential election polls 2024\",\n",
    "]\n",
    "\n",
    "preds = query_filter.predict(queries)\n",
    "for query, pred in zip(queries, preds):\n",
    "    print(f\"{query} -> {pred}\")\n"
   ]
  },
  {
   "cell_type": "code",
   "execution_count": null,
   "metadata": {},
   "outputs": [],
   "source": []
  }
 ],
 "metadata": {
  "kernelspec": {
   "display_name": ".filter",
   "language": "python",
   "name": "python3"
  },
  "language_info": {
   "codemirror_mode": {
    "name": "ipython",
    "version": 3
   },
   "file_extension": ".py",
   "mimetype": "text/x-python",
   "name": "python",
   "nbconvert_exporter": "python",
   "pygments_lexer": "ipython3",
   "version": "3.10.14"
  }
 },
 "nbformat": 4,
 "nbformat_minor": 2
}
